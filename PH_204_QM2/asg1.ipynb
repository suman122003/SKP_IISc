{
 "cells": [
  {
   "cell_type": "markdown",
   "metadata": {},
   "source": [
    "# Assignment 1 - Suman Kumar Pal (SR -  24974)\n",
    "\n",
    "Link for the codes:\n",
    "\n",
    "https://github.com/suman122003/SKP_IISc/tree/main/PH_204_QM2/asg1.ipynb"
   ]
  },
  {
   "cell_type": "code",
   "execution_count": 1,
   "metadata": {},
   "outputs": [],
   "source": [
    "import numpy as np\n",
    "import pandas as pd\n",
    "import matplotlib.pyplot as plt\n",
    "import seaborn as sb\n",
    "from scipy.optimize import curve_fit\n",
    "import scipy.constants as const"
   ]
  },
  {
   "cell_type": "code",
   "execution_count": 2,
   "metadata": {},
   "outputs": [
    {
     "name": "stdout",
     "output_type": "stream",
     "text": [
      "All in SI units:\n",
      "e = 1.602176634e-19, me = 9.1093837015e-31, mp = 1.67262192369e-27\n",
      "ep0 = 8.8541878128e-12\n",
      "kB = 1.380649e-23, hbar = 1.0545718176461565e-34, c = 299792458.0\n",
      "r0 = 1.2e-15\n"
     ]
    }
   ],
   "source": [
    "e, me, mp = const.e, const.m_e, const.m_p\n",
    "ep0 = const.epsilon_0\n",
    "kB, hbar, c = const.Boltzmann, const.hbar, const.c\n",
    "r0 = 1.2e-15\n",
    "print('All in SI units:')\n",
    "print(f'e = {e}, me = {me}, mp = {mp}')\n",
    "print(f'ep0 = {ep0}')\n",
    "print(f'kB = {kB}, hbar = {hbar}, c = {c}')\n",
    "print(f'r0 = {r0}')"
   ]
  },
  {
   "cell_type": "markdown",
   "metadata": {},
   "source": [
    "## Question 3"
   ]
  },
  {
   "cell_type": "markdown",
   "metadata": {},
   "source": [
    "**Calculation of lifetime for $_{92}U^{238}$**"
   ]
  },
  {
   "cell_type": "code",
   "execution_count": 3,
   "metadata": {},
   "outputs": [
    {
     "name": "stdout",
     "output_type": "stream",
     "text": [
      "delM = 0.004589000000005505, Q = 4.2723590000051255 MeV, E = 4.200554647063862 MeV\n",
      "K1 = 1.9868533028891406, K2 = 1.4906820554112288\n",
      "gam = 50.19562342327302. Transmission probability = 2.5155645340753817e-44\n",
      "r1 = 7.436585321689351e-15, v1 = 14234524.877389105\n",
      "lifetime = 4.153604313615301e+22 s = 1317099287676084.8 years\n"
     ]
    }
   ],
   "source": [
    "Z, A = 92, 238\n",
    "u = 931  # MeV\n",
    "Mi = 238.050784   # in u\n",
    "Mf = 234.043593   # in u\n",
    "Ma = 4.002602     # in u\n",
    "delM = (Mi-Mf-Ma)\n",
    "Q = delM*u\n",
    "E = Q*(A-4)/A\n",
    "print(f'delM = {delM}, Q = {Q} MeV, E = {E} MeV')\n",
    "\n",
    "K1 = np.pi*np.sqrt(2*Ma*mp)*e**2/(hbar*4*np.pi*ep0)\n",
    "K1 = K1/np.sqrt(1e6*e)          # in (MeV)^1/2\n",
    "K2 = 4*np.sqrt(Ma*mp*e**2/(4*np.pi*ep0))/hbar\n",
    "K2 = K2*np.sqrt(1e-15)          # in (fm)^-1/2\n",
    "print(f'K1 = {K1}, K2 = {K2}')\n",
    "gam = lambda E, Z, A: K1*Z/np.sqrt(E) - K2*np.sqrt(Z*r0*1e15*A**(1/3))\n",
    "gam1 = gam(E, Z, A)\n",
    "T1 = np.exp(-2*gam1)\n",
    "print(f'gam = {gam1}. Transmission probability = {T1}')\n",
    "r1 = r0*A**(1/3)\n",
    "v1 = np.sqrt(2*E/(Ma*u))*c\n",
    "print(f'r1 = {r1}, v1 = {v1}')\n",
    "tau1 = (2*r1/v1)*np.exp(2*gam1)\n",
    "tau1y = tau1/(3600*24*365)\n",
    "print(f'lifetime = {tau1} s = {tau1y} years')"
   ]
  },
  {
   "cell_type": "markdown",
   "metadata": {},
   "source": [
    "**Calculation of lifetime for $_{84}Po^{212}$**"
   ]
  },
  {
   "cell_type": "code",
   "execution_count": 4,
   "metadata": {},
   "outputs": [
    {
     "name": "stdout",
     "output_type": "stream",
     "text": [
      "delM = 0.009612999999997207, Q = 8.949702999997399 MeV, E = 8.780840679242731 MeV\n",
      "K1 = 1.9868533028891406, K2 = 1.4906820554112288\n",
      "gam = 19.776027955504325. Transmission probability = 6.649061805826418e-18\n",
      "r1 = 7.155278349292429e-15, v1 = 20580584.50503724\n",
      "lifetime = 0.00010457754776454071 s\n"
     ]
    }
   ],
   "source": [
    "Z, A = 84, 212\n",
    "u = 931  # MeV\n",
    "Mi = 211.988842   # in u\n",
    "Mf = 207.976627   # in u\n",
    "Ma = 4.002602     # in u\n",
    "delM = (Mi-Mf-Ma)\n",
    "Q = delM*u\n",
    "E = Q*(A-4)/A\n",
    "print(f'delM = {delM}, Q = {Q} MeV, E = {E} MeV')\n",
    "\n",
    "K1 = np.pi*np.sqrt(2*Ma*mp)*e**2/(hbar*4*np.pi*ep0)\n",
    "K1 = K1/np.sqrt(1e6*e)          # in (MeV)^1/2\n",
    "K2 = 4*np.sqrt(Ma*mp*e**2/(4*np.pi*ep0))/hbar\n",
    "K2 = K2*np.sqrt(1e-15)          # in (fm)^-1/2\n",
    "print(f'K1 = {K1}, K2 = {K2}')\n",
    "gam = lambda E, Z, A: K1*Z/np.sqrt(E) - K2*np.sqrt(Z*r0*1e15*A**(1/3))\n",
    "gam1 = gam(E, Z, A)\n",
    "T1 = np.exp(-2*gam1)\n",
    "print(f'gam = {gam1}. Transmission probability = {T1}')\n",
    "r1 = r0*A**(1/3)\n",
    "v1 = np.sqrt(2*E/(Ma*u))*c\n",
    "print(f'r1 = {r1}, v1 = {v1}')\n",
    "tau1 = (2*r1/v1)*np.exp(2*gam1)\n",
    "print(f'lifetime = {tau1} s')"
   ]
  },
  {
   "cell_type": "markdown",
   "metadata": {},
   "source": [
    "## Question 4"
   ]
  },
  {
   "cell_type": "code",
   "execution_count": 5,
   "metadata": {},
   "outputs": [
    {
     "name": "stdout",
     "output_type": "stream",
     "text": [
      "g = 9.80665\n"
     ]
    }
   ],
   "source": [
    "g = const.g\n",
    "print(f'g = {g}')"
   ]
  },
  {
   "cell_type": "code",
   "execution_count": 6,
   "metadata": {},
   "outputs": [
    {
     "name": "stdout",
     "output_type": "stream",
     "text": [
      "n=1, En=8.74157100000767e-23 J = 0.0005456059472159091 eV\n",
      "n=2, En=1.5378265202777402e-22 J = 0.0009598358181259934 eV\n",
      "n=3, En=2.0785977025660495e-22 J = 0.0012973586422719292 eV\n",
      "n=4, En=2.5560508663869607e-22 J = 0.001595361467733751 eV\n",
      "For h=1, n=8.911648385115607e+32\n"
     ]
    }
   ],
   "source": [
    "c1 = (3*np.pi*hbar/(2*np.sqrt(2*g)))\n",
    "def En(n, m):\n",
    "    return m*g*(c1*(n-0.25)/m)**(2/3)\n",
    "\n",
    "for ni in range(1, 5):\n",
    "    print(f'n={ni}, En={En(ni, 0.1)} J = {En(ni, 0.1)/e} eV')\n",
    "\n",
    "h1 = 1  # 1 m\n",
    "n1 = 0.25 + 0.1*h1**(3/2)/c1\n",
    "print(f'For h={h1}, n={n1}')"
   ]
  },
  {
   "cell_type": "markdown",
   "metadata": {},
   "source": [
    "## Question 5"
   ]
  },
  {
   "cell_type": "code",
   "execution_count": 7,
   "metadata": {},
   "outputs": [
    {
     "data": {
      "image/png": "[encoded data removed]",
      "text/plain": [
       "<Figure size 640x480 with 1 Axes>"
      ]
     },
     "metadata": {},
     "output_type": "display_data"
    }
   ],
   "source": [
    "import scipy.special as sp\n",
    "\n",
    "x = np.linspace(-5, 5, 100)\n",
    "Ai = lambda x: sp.airy(x - 1.0188)[0]\n",
    "psi_exact = lambda x: Ai(abs(x))\n",
    "\n",
    "psi2 = np.array([(1/np.pi**(1/4))*np.exp(-(x[i])**2/2) for i in range(len(x))])\n",
    "psi1 = np.array([psi_exact(x[i]) for i in range(len(x))])\n",
    "\n",
    "plt.plot(x, psi1, label='Airy function solution')\n",
    "plt.plot(x, psi2, label='Gaussian wavefunction')\n",
    "plt.legend()\n",
    "plt.grid()\n",
    "plt.show()"
   ]
  },
  {
   "cell_type": "markdown",
   "metadata": {},
   "source": [
    "## Question 8"
   ]
  },
  {
   "cell_type": "code",
   "execution_count": 8,
   "metadata": {},
   "outputs": [],
   "source": [
    "import sympy as sp"
   ]
  },
  {
   "cell_type": "code",
   "execution_count": 9,
   "metadata": {},
   "outputs": [
    {
     "data": {
      "text/plain": [
       "'psi'"
      ]
     },
     "metadata": {},
     "output_type": "display_data"
    },
    {
     "data": {
      "text/latex": [
       "$\\displaystyle A \\left(B x^{2} - 1\\right) e^{- C x^{2}}$"
      ],
      "text/plain": [
       "A*(B*x**2 - 1)*exp(-C*x**2)"
      ]
     },
     "metadata": {},
     "output_type": "display_data"
    },
    {
     "data": {
      "text/plain": [
       "'int psi2'"
      ]
     },
     "metadata": {},
     "output_type": "display_data"
    },
    {
     "data": {
      "text/latex": [
       "$\\displaystyle \\frac{\\sqrt{2} \\sqrt{\\pi} A^{2} \\cdot \\left(3 B^{2} - 8 B C + 16 C^{2}\\right)}{32 C^{\\frac{5}{2}}}$"
      ],
      "text/plain": [
       "sqrt(2)*sqrt(pi)*A**2*(3*B**2 - 8*B*C + 16*C**2)/(32*C**(5/2))"
      ]
     },
     "metadata": {},
     "output_type": "display_data"
    },
    {
     "data": {
      "text/plain": [
       "'psi* x2 psi'"
      ]
     },
     "metadata": {},
     "output_type": "display_data"
    },
    {
     "data": {
      "text/latex": [
       "$\\displaystyle \\operatorname{Poly}{\\left( x^{6}A^{2}B^{2}e^{- 2 C x^{2}} - 2 x^{4}A^{2}Be^{- 2 C x^{2}} + x^{2}A^{2}e^{- 2 C x^{2}}, x, A, B, e^{- C x^{2}}, domain=\\mathbb{Z} \\right)}$"
      ],
      "text/plain": [
       "Poly(x**6*A**2*B**2*(exp(-C*x**2))**2 - 2*x**4*A**2*B*(exp(-C*x**2))**2 + x**2*A**2*(exp(-C*x**2))**2, x, A, B, exp(-C*x**2), domain='ZZ')"
      ]
     },
     "metadata": {},
     "output_type": "display_data"
    },
    {
     "data": {
      "text/plain": [
       "'int psi* x2 psi'"
      ]
     },
     "metadata": {},
     "output_type": "display_data"
    },
    {
     "data": {
      "text/latex": [
       "$\\displaystyle \\frac{15 \\sqrt{2} \\sqrt{\\pi} A^{2} B^{2}}{128 C^{\\frac{7}{2}}} - \\frac{3 \\sqrt{2} \\sqrt{\\pi} A^{2} B}{16 C^{\\frac{5}{2}}} + \\frac{\\sqrt{2} \\sqrt{\\pi} A^{2}}{8 C^{\\frac{3}{2}}}$"
      ],
      "text/plain": [
       "15*sqrt(2)*sqrt(pi)*A**2*B**2/(128*C**(7/2)) - 3*sqrt(2)*sqrt(pi)*A**2*B/(16*C**(5/2)) + sqrt(2)*sqrt(pi)*A**2/(8*C**(3/2))"
      ]
     },
     "metadata": {},
     "output_type": "display_data"
    },
    {
     "data": {
      "text/plain": [
       "'V2'"
      ]
     },
     "metadata": {},
     "output_type": "display_data"
    },
    {
     "data": {
      "text/latex": [
       "$\\displaystyle \\frac{m \\omega^{2} \\cdot \\left(15 B^{2} - 24 B C + 16 C^{2}\\right)}{8 C \\left(3 B^{2} - 8 B C + 16 C^{2}\\right)}$"
      ],
      "text/plain": [
       "m*omega**2*(15*B**2 - 24*B*C + 16*C**2)/(8*C*(3*B**2 - 8*B*C + 16*C**2))"
      ]
     },
     "metadata": {},
     "output_type": "display_data"
    },
    {
     "data": {
      "text/plain": [
       "'d2/dx2 psi'"
      ]
     },
     "metadata": {},
     "output_type": "display_data"
    },
    {
     "data": {
      "text/latex": [
       "$\\displaystyle 2 A \\left(2 B C^{2} x^{4} - 5 B C x^{2} + B - 2 C^{2} x^{2} + C\\right) e^{- C x^{2}}$"
      ],
      "text/plain": [
       "2*A*(2*B*C**2*x**4 - 5*B*C*x**2 + B - 2*C**2*x**2 + C)*exp(-C*x**2)"
      ]
     },
     "metadata": {},
     "output_type": "display_data"
    },
    {
     "data": {
      "text/plain": [
       "'psi* d/dx2 psi'"
      ]
     },
     "metadata": {},
     "output_type": "display_data"
    },
    {
     "data": {
      "text/latex": [
       "$\\displaystyle \\operatorname{Poly}{\\left( 4 x^{6}A^{2}B^{2}C^{2}e^{- 2 C x^{2}} - 10 x^{4}A^{2}B^{2}Ce^{- 2 C x^{2}} - 8 x^{4}A^{2}BC^{2}e^{- 2 C x^{2}} + 2 x^{2}A^{2}B^{2}e^{- 2 C x^{2}} + 12 x^{2}A^{2}BCe^{- 2 C x^{2}} + 4 x^{2}A^{2}C^{2}e^{- 2 C x^{2}} - 2 A^{2}Be^{- 2 C x^{2}} - 2 A^{2}Ce^{- 2 C x^{2}}, x, A, B, C, e^{- C x^{2}}, domain=\\mathbb{Z} \\right)}$"
      ],
      "text/plain": [
       "Poly(4*x**6*A**2*B**2*C**2*(exp(-C*x**2))**2 - 10*x**4*A**2*B**2*C*(exp(-C*x**2))**2 - 8*x**4*A**2*B*C**2*(exp(-C*x**2))**2 + 2*x**2*A**2*B**2*(exp(-C*x**2))**2 + 12*x**2*A**2*B*C*(exp(-C*x**2))**2 + 4*x**2*A**2*C**2*(exp(-C*x**2))**2 - 2*A**2*B*(exp(-C*x**2))**2 - 2*A**2*C*(exp(-C*x**2))**2, x, A, B, C, exp(-C*x**2), domain='ZZ')"
      ]
     },
     "metadata": {},
     "output_type": "display_data"
    },
    {
     "data": {
      "text/plain": [
       "'int psi* d/dx2 psi'"
      ]
     },
     "metadata": {},
     "output_type": "display_data"
    },
    {
     "data": {
      "text/latex": [
       "$\\displaystyle - \\frac{7 \\sqrt{2} \\sqrt{\\pi} A^{2} B^{2}}{32 C^{\\frac{3}{2}}} - \\frac{\\sqrt{2} \\sqrt{\\pi} A^{2} B}{4 \\sqrt{C}} - \\frac{\\sqrt{2} \\sqrt{\\pi} A^{2} \\sqrt{C}}{2}$"
      ],
      "text/plain": [
       "-7*sqrt(2)*sqrt(pi)*A**2*B**2/(32*C**(3/2)) - sqrt(2)*sqrt(pi)*A**2*B/(4*sqrt(C)) - sqrt(2)*sqrt(pi)*A**2*sqrt(C)/2"
      ]
     },
     "metadata": {},
     "output_type": "display_data"
    },
    {
     "data": {
      "text/plain": [
       "'T2'"
      ]
     },
     "metadata": {},
     "output_type": "display_data"
    },
    {
     "data": {
      "text/latex": [
       "$\\displaystyle \\frac{C \\hbar^{2} \\cdot \\left(7 B^{2} + 8 B C + 16 C^{2}\\right)}{2 m \\left(3 B^{2} - 8 B C + 16 C^{2}\\right)}$"
      ],
      "text/plain": [
       "C*hbar**2*(7*B**2 + 8*B*C + 16*C**2)/(2*m*(3*B**2 - 8*B*C + 16*C**2))"
      ]
     },
     "metadata": {},
     "output_type": "display_data"
    }
   ],
   "source": [
    "As, xs = sp.symbols('A x', real=True)\n",
    "Bs, Cs = sp.symbols('B C', real=True, positive=True)\n",
    "ms, ws, hbars = sp.symbols('m omega hbar', real=True, positive=True)\n",
    "\n",
    "psis = As*(Bs*xs**2-1)*sp.exp(-Cs*xs**2)\n",
    "display('psi', psis)\n",
    "intg1 = (sp.integrate(psis**2, (xs, -sp.oo, sp.oo))).simplify()\n",
    "display('int psi2', intg1)\n",
    "\n",
    "intg = xs**2*psis**2\n",
    "display('psi* x2 psi', intg.as_poly())\n",
    "intg2 = sp.integrate(intg, (xs, -sp.oo, sp.oo))\n",
    "display('int psi* x2 psi', intg2)\n",
    "V2 = (sp.Rational(1,2)*ms*ws**2 * (intg2/intg1)).simplify()\n",
    "display('V2', V2)\n",
    "\n",
    "psipp = sp.diff(sp.diff(psis, xs), xs)\n",
    "display('d2/dx2 psi', psipp.simplify())\n",
    "intg = psis*psipp\n",
    "display('psi* d/dx2 psi', intg.as_poly())\n",
    "intg3 = sp.integrate(intg, (xs, -sp.oo, sp.oo))\n",
    "display('int psi* d/dx2 psi', intg3)\n",
    "T2 = ((-hbars**2/(2*ms)) * (intg3/intg1)).simplify()\n",
    "display('T2', T2)"
   ]
  },
  {
   "cell_type": "code",
   "execution_count": 10,
   "metadata": {},
   "outputs": [
    {
     "data": {
      "text/plain": [
       "'E2'"
      ]
     },
     "metadata": {},
     "output_type": "display_data"
    },
    {
     "data": {
      "text/latex": [
       "$\\displaystyle \\frac{4 C^{2} \\hbar^{2} \\cdot \\left(7 B^{2} + 8 B C + 16 C^{2}\\right) + m^{2} \\omega^{2} \\cdot \\left(15 B^{2} - 24 B C + 16 C^{2}\\right)}{8 C m \\left(3 B^{2} - 8 B C + 16 C^{2}\\right)}$"
      ],
      "text/plain": [
       "(4*C**2*hbar**2*(7*B**2 + 8*B*C + 16*C**2) + m**2*omega**2*(15*B**2 - 24*B*C + 16*C**2))/(8*C*m*(3*B**2 - 8*B*C + 16*C**2))"
      ]
     },
     "metadata": {},
     "output_type": "display_data"
    },
    {
     "data": {
      "text/plain": [
       "'E2, b fixed'"
      ]
     },
     "metadata": {},
     "output_type": "display_data"
    },
    {
     "data": {
      "text/latex": [
       "$\\displaystyle \\frac{4 C^{2} \\hbar^{2} \\cdot \\left(16 C^{2} + \\frac{16 C m \\omega}{\\hbar} + \\frac{28 m^{2} \\omega^{2}}{\\hbar^{2}}\\right) + m^{2} \\omega^{2} \\cdot \\left(16 C^{2} - \\frac{48 C m \\omega}{\\hbar} + \\frac{60 m^{2} \\omega^{2}}{\\hbar^{2}}\\right)}{8 C m \\left(16 C^{2} - \\frac{16 C m \\omega}{\\hbar} + \\frac{12 m^{2} \\omega^{2}}{\\hbar^{2}}\\right)}$"
      ],
      "text/plain": [
       "(4*C**2*hbar**2*(16*C**2 + 16*C*m*omega/hbar + 28*m**2*omega**2/hbar**2) + m**2*omega**2*(16*C**2 - 48*C*m*omega/hbar + 60*m**2*omega**2/hbar**2))/(8*C*m*(16*C**2 - 16*C*m*omega/hbar + 12*m**2*omega**2/hbar**2))"
      ]
     },
     "metadata": {},
     "output_type": "display_data"
    },
    {
     "data": {
      "text/latex": [
       "$\\displaystyle \\frac{16 C^{4} \\hbar^{4} + 16 C^{3} \\hbar^{3} m \\omega + 32 C^{2} \\hbar^{2} m^{2} \\omega^{2} - 12 C \\hbar m^{3} \\omega^{3} + 15 m^{4} \\omega^{4}}{8 C m \\left(4 C^{2} \\hbar^{2} - 4 C \\hbar m \\omega + 3 m^{2} \\omega^{2}\\right)}$"
      ],
      "text/plain": [
       "(16*C**4*hbar**4 + 16*C**3*hbar**3*m*omega + 32*C**2*hbar**2*m**2*omega**2 - 12*C*hbar*m**3*omega**3 + 15*m**4*omega**4)/(8*C*m*(4*C**2*hbar**2 - 4*C*hbar*m*omega + 3*m**2*omega**2))"
      ]
     },
     "metadata": {},
     "output_type": "display_data"
    },
    {
     "data": {
      "text/plain": [
       "'E2, c fixed'"
      ]
     },
     "metadata": {},
     "output_type": "display_data"
    },
    {
     "data": {
      "text/latex": [
       "$\\displaystyle \\frac{5 \\hbar \\omega}{2}$"
      ],
      "text/plain": [
       "5*hbar*omega/2"
      ]
     },
     "metadata": {},
     "output_type": "display_data"
    }
   ],
   "source": [
    "E2 = T2 + V2\n",
    "E2 = E2.simplify()\n",
    "display('E2', E2)\n",
    "E2b = E2.subs(Bs, 2*ms*ws/hbars)\n",
    "display('E2, b fixed', E2b, E2b.simplify())\n",
    "E2c = E2b.subs(Cs, ms*ws/(2*hbars))\n",
    "display('E2, c fixed', E2c)"
   ]
  },
  {
   "cell_type": "code",
   "execution_count": null,
   "metadata": {},
   "outputs": [],
   "source": []
  },
  {
   "cell_type": "markdown",
   "metadata": {},
   "source": [
    "## Question 10"
   ]
  },
  {
   "cell_type": "markdown",
   "metadata": {},
   "source": [
    "**10. (a)**"
   ]
  },
  {
   "cell_type": "code",
   "execution_count": 11,
   "metadata": {},
   "outputs": [],
   "source": [
    "from scipy.integrate import quad, simps"
   ]
  },
  {
   "cell_type": "code",
   "execution_count": 12,
   "metadata": {},
   "outputs": [
    {
     "name": "stdout",
     "output_type": "stream",
     "text": [
      "a = 5e-11, L = 1e-10, E = 1e-19, V0 = 1.5e-19\n",
      "m = 9.1093837015e-31, hbar = 1.0545718176461565e-34\n"
     ]
    },
    {
     "data": {
      "image/png": "[encoded data removed]",
      "text/plain": [
       "<Figure size 640x480 with 1 Axes>"
      ]
     },
     "metadata": {},
     "output_type": "display_data"
    },
    {
     "name": "stdout",
     "output_type": "stream",
     "text": [
      "T = 0.5641707662671719.\n"
     ]
    }
   ],
   "source": [
    "a, L = 0.5e-10, 1e-10\n",
    "E, V0 = 1e-19, 1.5e-19\n",
    "m, hbar = const.m_e, const.hbar\n",
    "print(f'a = {a}, L = {L}, E = {E}, V0 = {V0}')\n",
    "print(f'm = {m}, hbar = {hbar}')\n",
    "def Vx(x, V0):\n",
    "    Vx = []\n",
    "    for xi in x:\n",
    "        if xi <= L and xi >= 0:\n",
    "            Vx.append(V0)\n",
    "        else:\n",
    "            Vx.append(0)\n",
    "    return np.array(Vx)\n",
    "\n",
    "x = np.linspace(-a*1.1, 1.5*L, 100)\n",
    "plt.plot(x, Vx(x, V0), '-.', label='Potential')\n",
    "plt.axhline(E, color='red', label='Energy')\n",
    "plt.xlabel('$x$')\n",
    "plt.ylabel('$V(x)$')\n",
    "plt.legend()\n",
    "plt.show()\n",
    "\n",
    "abs_px = lambda x: np.sqrt(2*m*abs(Vx(x, V0)-E))\n",
    "def Twkb(x):\n",
    "    'INPUT: x=np.linspace(x1,x2,100)'\n",
    "    intg = simps(abs_px(x), x)\n",
    "    return np.exp(-2*intg/hbar)\n",
    "x1x2 = np.linspace(0, L, 1000)\n",
    "Tval = Twkb(x1x2)\n",
    "print(f'T = {Tval}.')"
   ]
  },
  {
   "cell_type": "markdown",
   "metadata": {},
   "source": [
    "**10. (b)**"
   ]
  },
  {
   "cell_type": "code",
   "execution_count": 13,
   "metadata": {},
   "outputs": [
    {
     "name": "stderr",
     "output_type": "stream",
     "text": [
      "C:\\Users\\suman\\AppData\\Local\\Temp\\ipykernel_16416\\843493906.py:17: RuntimeWarning: divide by zero encountered in double_scalars\n",
      "  C2 = 1/simps([1/px(x3i, V0) for x3i in x3], x3)\n"
     ]
    },
    {
     "data": {
      "image/png": "[encoded data removed]",
      "text/plain": [
       "<Figure size 640x480 with 1 Axes>"
      ]
     },
     "metadata": {},
     "output_type": "display_data"
    }
   ],
   "source": [
    "def Vx(x, V0):\n",
    "    if x<=L and x>=0:\n",
    "        return V0\n",
    "    else:\n",
    "        return 0\n",
    "px = lambda x, V0: np.sqrt(2*m*(E-Vx(x, V0)))\n",
    "abs_px = lambda x, V0: np.sqrt(2*m*np.abs(E-Vx(x, V0)))\n",
    "x1x2 = np.linspace(0, L, 1000)\n",
    "intg = simps([abs_px(x1x2i, V0) for x1x2i in x1x2], x1x2)\n",
    "Twkb = lambda V0: np.exp(-2*intg/hbar)\n",
    "xL, xR = -20*a, 15*L\n",
    "\n",
    "def psi2_3(x, V0):\n",
    "    x3 = np.linspace(L*1.1, x, 100)\n",
    "    intg = simps([px(x3i, V0) for x3i in x3], x3)\n",
    "    psi2 = (1/px(x, V0)) * (np.sin(intg/hbar - np.pi/4))**2\n",
    "    C2 = 1/simps([1/px(x3i, V0) for x3i in x3], x3)\n",
    "    return C2*psi2\n",
    "x3 = np.linspace(L*1.1, xR, 100)\n",
    "psi23 = [psi2_3(x3i, V0) for x3i in x3]\n",
    "psi2 = [1/px(x3i, V0) for x3i in x3]\n",
    "C2 = 1/simps(psi2, x3)\n",
    "\n",
    "def psi2_2(x, V0):\n",
    "    x2 = np.linspace(x, L*0.99, 100)\n",
    "    intg = simps([abs_px(x2i, V0) for x2i in x2], x2)\n",
    "    psi2 = (1/abs_px(x, V0))*np.exp(2*intg/hbar)\n",
    "    return C2*psi2\n",
    "x2 = np.linspace(0.01*a, L*0.99, 100)\n",
    "psi22 = [psi2_2(x2i, V0) for x2i in x2]\n",
    "\n",
    "def psi2_1(x, V0):\n",
    "    x1 = np.linspace(x, -0.001*a, 100)\n",
    "    intg = simps([px(x1i, V0) for x1i in x1], x1)\n",
    "    psi2 = (4/px(x, V0))*Twkb(V0)*(np.cos(intg/hbar - np.pi/4))**2\n",
    "    return C2*psi2\n",
    "x1 = np.linspace(xL, -0.001*a)\n",
    "psi21 = [psi2_1(x1i, V0) for x1i in x1]\n",
    "\n",
    "plt.plot(x3, psi23)\n",
    "plt.plot(x2, psi22)\n",
    "plt.plot(x1, psi21)\n",
    "plt.axvline(a, color='black', label='Slit')\n",
    "plt.axvline(-a, color='black')\n",
    "plt.axvline(0, color='purple', label='Potential')\n",
    "plt.axvline(L, color='purple')\n",
    "plt.legend()\n",
    "plt.show()"
   ]
  },
  {
   "cell_type": "markdown",
   "metadata": {},
   "source": [
    "As we have applied potential accross 1 slit only, we can expect the result of single slit diffraction here."
   ]
  },
  {
   "cell_type": "code",
   "execution_count": null,
   "metadata": {},
   "outputs": [],
   "source": []
  }
 ],
 "metadata": {
  "kernelspec": {
   "display_name": "Python 3 (ipykernel)",
   "language": "python",
   "name": "python3"
  },
  "language_info": {
   "codemirror_mode": {
    "name": "ipython",
    "version": 3
   },
   "file_extension": ".py",
   "mimetype": "text/x-python",
   "name": "python",
   "nbconvert_exporter": "python",
   "pygments_lexer": "ipython3",
   "version": "3.9.13"
  }
 },
 "nbformat": 4,
 "nbformat_minor": 2
}
