{
 "cells": [
  {
   "cell_type": "markdown",
   "metadata": {},
   "source": [
    "# Assignment 1"
   ]
  },
  {
   "cell_type": "code",
   "execution_count": 1,
   "metadata": {},
   "outputs": [],
   "source": [
    "import sympy as sp\n",
    "sp.init_printing(use_unicode=True)"
   ]
  },
  {
   "cell_type": "code",
   "execution_count": 2,
   "metadata": {},
   "outputs": [
    {
     "data": {
      "text/latex": [
       "$\\displaystyle \\left[\\begin{matrix}\\frac{5}{2} & \\frac{\\sqrt{6}}{2} & \\frac{\\sqrt{3}}{2}\\\\\\frac{\\sqrt{6}}{2} & \\frac{7}{3} & \\frac{\\sqrt{2}}{6}\\\\\\frac{\\sqrt{3}}{2} & \\frac{\\sqrt{2}}{6} & \\frac{13}{6}\\end{matrix}\\right]$"
      ],
      "text/plain": [
       "⎡     √6    √3 ⎤\n",
       "⎢5/2  ──    ── ⎥\n",
       "⎢     2     2  ⎥\n",
       "⎢              ⎥\n",
       "⎢√6         √2 ⎥\n",
       "⎢──   7/3   ── ⎥\n",
       "⎢2          6  ⎥\n",
       "⎢              ⎥\n",
       "⎢√3   √2       ⎥\n",
       "⎢──   ──   13/6⎥\n",
       "⎣2    6        ⎦"
      ]
     },
     "metadata": {},
     "output_type": "display_data"
    }
   ],
   "source": [
    "I = sp.Matrix([[sp.Rational(5,2), sp.sqrt(sp.Rational(3,2)), sp.sqrt(sp.Rational(3,4))],\n",
    "               [sp.sqrt(sp.Rational(3,2)), sp.Rational(7,3), sp.sqrt(sp.Rational(1,18))],\n",
    "               [sp.sqrt(sp.Rational(3,4)), sp.sqrt(sp.Rational(1,18)), sp.Rational(13,6)]])\n",
    "display(I)"
   ]
  },
  {
   "cell_type": "code",
   "execution_count": 3,
   "metadata": {},
   "outputs": [
    {
     "data": {
      "text/latex": [
       "$\\displaystyle \\left[ \\left( 1, \\  1, \\  \\left[ \\left[\\begin{matrix}- \\sqrt{3}\\\\\\sqrt{2}\\\\1\\end{matrix}\\right]\\right]\\right), \\  \\left( 2, \\  1, \\  \\left[ \\left[\\begin{matrix}0\\\\- \\frac{\\sqrt{2}}{2}\\\\1\\end{matrix}\\right]\\right]\\right), \\  \\left( 4, \\  1, \\  \\left[ \\left[\\begin{matrix}\\sqrt{3}\\\\\\sqrt{2}\\\\1\\end{matrix}\\right]\\right]\\right)\\right]$"
      ],
      "text/plain": [
       "⎡                 ⎛      ⎡⎡ 0  ⎤⎤⎞                ⎤\n",
       "⎢⎛      ⎡⎡-√3⎤⎤⎞  ⎜      ⎢⎢    ⎥⎥⎟  ⎛      ⎡⎡√3⎤⎤⎞⎥\n",
       "⎢⎜      ⎢⎢   ⎥⎥⎟  ⎜      ⎢⎢-√2 ⎥⎥⎟  ⎜      ⎢⎢  ⎥⎥⎟⎥\n",
       "⎢⎜1, 1, ⎢⎢√2 ⎥⎥⎟, ⎜2, 1, ⎢⎢────⎥⎥⎟, ⎜4, 1, ⎢⎢√2⎥⎥⎟⎥\n",
       "⎢⎜      ⎢⎢   ⎥⎥⎟  ⎜      ⎢⎢ 2  ⎥⎥⎟  ⎜      ⎢⎢  ⎥⎥⎟⎥\n",
       "⎢⎝      ⎣⎣ 1 ⎦⎦⎠  ⎜      ⎢⎢    ⎥⎥⎟  ⎝      ⎣⎣1 ⎦⎦⎠⎥\n",
       "⎣                 ⎝      ⎣⎣ 1  ⎦⎦⎠                ⎦"
      ]
     },
     "execution_count": 3,
     "metadata": {},
     "output_type": "execute_result"
    }
   ],
   "source": [
    "I.eigenvects()"
   ]
  },
  {
   "cell_type": "code",
   "execution_count": 4,
   "metadata": {},
   "outputs": [
    {
     "data": {
      "text/latex": [
       "$\\displaystyle \\left[\\begin{matrix}\\frac{5}{2} & \\frac{\\sqrt{6}}{2} & \\frac{\\sqrt{3}}{2}\\\\\\frac{\\sqrt{6}}{2} & \\frac{7}{3} & \\frac{\\sqrt{2}}{6}\\\\\\frac{\\sqrt{3}}{2} & \\frac{\\sqrt{2}}{6} & \\frac{13}{6}\\end{matrix}\\right]$"
      ],
      "text/plain": [
       "⎡     √6    √3 ⎤\n",
       "⎢5/2  ──    ── ⎥\n",
       "⎢     2     2  ⎥\n",
       "⎢              ⎥\n",
       "⎢√6         √2 ⎥\n",
       "⎢──   7/3   ── ⎥\n",
       "⎢2          6  ⎥\n",
       "⎢              ⎥\n",
       "⎢√3   √2       ⎥\n",
       "⎢──   ──   13/6⎥\n",
       "⎣2    6        ⎦"
      ]
     },
     "metadata": {},
     "output_type": "display_data"
    }
   ],
   "source": [
    "A = sp.Matrix([[sp.Rational(5,2), sp.sqrt(sp.Rational(3,2)), sp.sqrt(sp.Rational(3,4))],\n",
    "               [sp.sqrt(sp.Rational(3,2)), sp.Rational(7,3), sp.sqrt(sp.Rational(1,18))],\n",
    "               [sp.sqrt(sp.Rational(3,4)), sp.sqrt(sp.Rational(1,18)), sp.Rational(13,6)]])\n",
    "display(A)"
   ]
  },
  {
   "cell_type": "code",
   "execution_count": null,
   "metadata": {},
   "outputs": [],
   "source": []
  }
 ],
 "metadata": {
  "kernelspec": {
   "display_name": "base",
   "language": "python",
   "name": "python3"
  },
  "language_info": {
   "codemirror_mode": {
    "name": "ipython",
    "version": 3
   },
   "file_extension": ".py",
   "mimetype": "text/x-python",
   "name": "python",
   "nbconvert_exporter": "python",
   "pygments_lexer": "ipython3",
   "version": "3.9.13"
  }
 },
 "nbformat": 4,
 "nbformat_minor": 2
}
