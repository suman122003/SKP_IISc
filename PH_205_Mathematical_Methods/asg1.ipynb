{
 "cells": [
  {
   "cell_type": "code",
   "execution_count": 1,
   "metadata": {},
   "outputs": [],
   "source": [
    "import sympy as sp"
   ]
  },
  {
   "cell_type": "code",
   "execution_count": 3,
   "metadata": {},
   "outputs": [
    {
     "data": {
      "text/latex": [
       "$\\displaystyle \\left[\\begin{matrix}\\frac{5}{2} & \\frac{\\sqrt{6}}{2} & \\frac{\\sqrt{3}}{2}\\\\\\frac{\\sqrt{6}}{2} & \\frac{7}{3} & \\frac{\\sqrt{2}}{6}\\\\\\frac{\\sqrt{3}}{2} & \\frac{\\sqrt{2}}{6} & \\frac{13}{6}\\end{matrix}\\right]$"
      ],
      "text/plain": [
       "Matrix([\n",
       "[      5/2, sqrt(6)/2, sqrt(3)/2],\n",
       "[sqrt(6)/2,       7/3, sqrt(2)/6],\n",
       "[sqrt(3)/2, sqrt(2)/6,      13/6]])"
      ]
     },
     "metadata": {},
     "output_type": "display_data"
    }
   ],
   "source": [
    "I = sp.Matrix([[sp.Rational(5,2), sp.sqrt(sp.Rational(3,2)), sp.sqrt(sp.Rational(3,4))],\n",
    "               [sp.sqrt(sp.Rational(3,2)), sp.Rational(7,3), sp.sqrt(sp.Rational(1,18))],\n",
    "               [sp.sqrt(sp.Rational(3,4)), sp.sqrt(sp.Rational(1,18)), sp.Rational(13,6)]])\n",
    "display(I)"
   ]
  },
  {
   "cell_type": "code",
   "execution_count": 9,
   "metadata": {},
   "outputs": [
    {
     "data": {
      "text/latex": [
       "$\\displaystyle 1$"
      ],
      "text/plain": [
       "1"
      ]
     },
     "metadata": {},
     "output_type": "display_data"
    },
    {
     "data": {
      "text/latex": [
       "$\\displaystyle \\left[\\begin{matrix}- \\sqrt{3}\\\\\\sqrt{2}\\\\1\\end{matrix}\\right]$"
      ],
      "text/plain": [
       "Matrix([\n",
       "[-sqrt(3)],\n",
       "[ sqrt(2)],\n",
       "[       1]])"
      ]
     },
     "metadata": {},
     "output_type": "display_data"
    },
    {
     "data": {
      "text/latex": [
       "$\\displaystyle 2$"
      ],
      "text/plain": [
       "2"
      ]
     },
     "metadata": {},
     "output_type": "display_data"
    },
    {
     "data": {
      "text/latex": [
       "$\\displaystyle \\left[\\begin{matrix}0\\\\- \\frac{\\sqrt{2}}{2}\\\\1\\end{matrix}\\right]$"
      ],
      "text/plain": [
       "Matrix([\n",
       "[         0],\n",
       "[-sqrt(2)/2],\n",
       "[         1]])"
      ]
     },
     "metadata": {},
     "output_type": "display_data"
    },
    {
     "data": {
      "text/latex": [
       "$\\displaystyle 4$"
      ],
      "text/plain": [
       "4"
      ]
     },
     "metadata": {},
     "output_type": "display_data"
    },
    {
     "data": {
      "text/latex": [
       "$\\displaystyle \\left[\\begin{matrix}\\sqrt{3}\\\\\\sqrt{2}\\\\1\\end{matrix}\\right]$"
      ],
      "text/plain": [
       "Matrix([\n",
       "[sqrt(3)],\n",
       "[sqrt(2)],\n",
       "[      1]])"
      ]
     },
     "metadata": {},
     "output_type": "display_data"
    }
   ],
   "source": [
    "for i in range(3):\n",
    "    display(I.eigenvects()[i][0], I.eigenvects()[i][2][0])"
   ]
  },
  {
   "cell_type": "code",
   "execution_count": null,
   "metadata": {},
   "outputs": [],
   "source": [
    "A = sp.Matrix([[sp.Rational(5,2), sp.sqrt(sp.Rational(3,2)), sp.sqrt(sp.Rational(3,4))],\n",
    "               [sp.sqrt(sp.Rational(3,2)), sp.Rational(7,3), sp.sqrt(sp.Rational(1,18))],\n",
    "               [sp.sqrt(sp.Rational(3,4)), sp.sqrt(sp.Rational(1,18)), sp.Rational(13,6)]])\n",
    "display(A)"
   ]
  }
 ],
 "metadata": {
  "kernelspec": {
   "display_name": "base",
   "language": "python",
   "name": "python3"
  },
  "language_info": {
   "codemirror_mode": {
    "name": "ipython",
    "version": 3
   },
   "file_extension": ".py",
   "mimetype": "text/x-python",
   "name": "python",
   "nbconvert_exporter": "python",
   "pygments_lexer": "ipython3",
   "version": "3.9.13"
  }
 },
 "nbformat": 4,
 "nbformat_minor": 2
}
